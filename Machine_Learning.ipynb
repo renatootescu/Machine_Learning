{
 "cells": [
  {
   "attachments": {
    "image.png": {
     "image/png": "[encoded data removed]"
    }
   },
   "cell_type": "markdown",
   "metadata": {},
   "source": [
    "# Machine Learning, Andrew Ng, Stanford\n",
    "\n",
    "## https://www.coursera.org/learn/machine-learning\n",
    "\n",
    "<br>\n",
    "\n",
    "\n",
    "# What Is Machine Learning?\n",
    "***A computer program is learning from experience E, with respect to some class of tasks T and performance measure P, if its performance at tasks in T, as measuread by P, improves with experience E***\n",
    "\n",
    "**Example**: predicting weather using a large ammount of historical data:\n",
    "1. *task* **T** = the weather prediction\n",
    "2. *performance* **P** = the probability of correctly predicting the weather\n",
    "3. *experience* **E** = the process of examining the large amount of historical data\n",
    "\n",
    "## Supervised Learning\n",
    "\n",
    "***In supervised learning we already know that there is a relationship between the input and the output and we have an idea regarding how the output should look***\n",
    "\n",
    "### Regression\n",
    "\n",
    "We are trying to map variables to some continuous function / value (predicting results with a continuos output / real-valued output)\n",
    "\n",
    "**Example**: predict the weather, or the price of a product, or stocks, based on historical data\n",
    "\n",
    "### Classification\n",
    "\n",
    "We are trying to map input variables into discrete categories (predicting results in a discrete output)\n",
    "\n",
    "**Example**: given a patient with a tumor, predict wether the tumor is malignant or benign (0, 1 values)\n",
    "\n",
    "## Unsupervised Learning\n",
    "\n",
    "***We have little to no ideea on how the results should look like. We can derive structure from data where we don't necessarily know the effect of the variables. Data can be clustered based on relationships among the variables in the data***\n",
    "\n",
    "**Example**: Create groups (*Clustering*) from a large collection of genes that are related by diffrent variables, such as lifespan, location, roles, etc.\n",
    "\n",
    "**Example**: The *Cocktail Party Algorithm* allows us to find structure in chaotic environments, like identifying individual voices and music from a mesh of sounds at a party.\n",
    "\n",
    "\n",
    "# Linear Regression with one Variable\n",
    "\n",
    "## Model Representation\n",
    "\n",
    "***m*** = number of training examples (e.g. rows in a table of data)\n",
    "\n",
    "***x***'s = input variable / features (e.g. living area of a house)\n",
    "\n",
    "***y***'s = \"output\" variable / \"target\" variable (e.g. price of the house)\n",
    "\n",
    "***(x, y)*** = one training example\n",
    "\n",
    "***(x<sup>(i)</sup>, y<sup>(i)</sup>)*** = i<sup>th</sup> training example. **i** being an ***index*** into the data set (e.g. (x<sup>(3)</sup>, y<sup>(3)</sup>) means row 3 in the data table)\n",
    "\n",
    "### How a supervised learning algorithm works\n",
    "\n",
    "If we feed a *training set* to a *learning algorithm*, it's job will be to output a function ***h*** *(hypothesis)*. The *hypothesis* takes an input *x* (e.g. the size of a house) and it tries to output the estimated value of *y* (the estimated price of the house). \n",
    "\n",
    "![image.png](attachment:image.png)\n",
    "\n",
    "In other words, ***h** maps from **x**'s to **y**'s*\n",
    "\n",
    "### Representing the hypothesis *h*\n",
    "\n",
    "*When designing a learning algorithm we need to decide how do we represent the hypothesis h*\n",
    "\n",
    "***h<sub>$\\theta$</sub>(x) = $\\theta$<sub>0</sub> + $\\theta$<sub>1</sub>***\n",
    "(shorthand might show up as *h(x)* without $\\theta$)\n",
    "\n",
    "Example: if we have we take a data set with housing prices, and put it on a *x, y plane*, the *y axis* representing size of houses and *x* representing the price, we are going to predict that *y is a linear function of x* - prices increase with the size of the house:\n",
    "\n",
    "*h(x) = $\\theta$<sub>0</sub> + $\\theta$<sub>1</sub>x*\n",
    "\n",
    "This particular model is named **Linear Regression With One Variable** (*x*), or **Univariate Linear Regression**.\n",
    "\n",
    "## Cost Function\n",
    "\n",
    "\n"
   ]
  },
  {
   "cell_type": "code",
   "execution_count": 8,
   "metadata": {
    "scrolled": true
   },
   "outputs": [
    {
     "name": "stdout",
     "output_type": "stream",
     "text": [
      "hello world\n"
     ]
    }
   ],
   "source": [
    "print('hello world')"
   ]
  },
  {
   "cell_type": "code",
   "execution_count": null,
   "metadata": {},
   "outputs": [],
   "source": []
  }
 ],
 "metadata": {
  "kernelspec": {
   "display_name": "Python 3",
   "language": "python",
   "name": "python3"
  },
  "language_info": {
   "codemirror_mode": {
    "name": "ipython",
    "version": 3
   },
   "file_extension": ".py",
   "mimetype": "text/x-python",
   "name": "python",
   "nbconvert_exporter": "python",
   "pygments_lexer": "ipython3",
   "version": "3.7.0"
  }
 },
 "nbformat": 4,
 "nbformat_minor": 2
}
